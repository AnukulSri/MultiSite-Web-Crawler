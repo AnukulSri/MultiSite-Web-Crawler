{
 "cells": [
  {
   "cell_type": "code",
   "execution_count": 26,
   "metadata": {},
   "outputs": [],
   "source": [
    "import mysql.connector\n",
    "conn = mysql.connector.connect(\n",
    "    host = \"localhost\",\n",
    "    user = \"sqluser\",\n",
    "    password=\"password\"\n",
    ")\n",
    "mycursor = conn.cursor()"
   ]
  },
  {
   "cell_type": "code",
   "execution_count": null,
   "metadata": {},
   "outputs": [],
   "source": [
    "#mycursor.execute(\"create database python_db\")"
   ]
  },
  {
   "cell_type": "code",
   "execution_count": 27,
   "metadata": {},
   "outputs": [],
   "source": [
    "conn= mysql.connector.connect(\n",
    "    host = 'localhost',\n",
    "    user = 'sqluser',\n",
    "    password = 'password',\n",
    "    database = 'python_db'\n",
    ")\n",
    "mycursor = conn.cursor()"
   ]
  },
  {
   "cell_type": "code",
   "execution_count": null,
   "metadata": {},
   "outputs": [],
   "source": [
    "#mycursor.execute(\"Create table user_table (id Int Auto_Increment primary key,Name varchar(50),Email varchar(50),T_Date date,password varchar(30))\")"
   ]
  },
  {
   "cell_type": "code",
   "execution_count": null,
   "metadata": {},
   "outputs": [],
   "source": [
    "#mycursor.execute(\"Create table Admin_Table(id Int Auto_Increment primary key,Name varchar(50),password varchar(30))\")\n"
   ]
  },
  {
   "cell_type": "code",
   "execution_count": null,
   "metadata": {},
   "outputs": [],
   "source": [
    "'''sql = \"INSERT INTO Admin_Table (Name, password) VALUES (%s, %s)\"\n",
    "val = (\"Admin\", \"Admin@123\")\n",
    "mycursor.execute(sql, val)\n",
    "conn.commit()'''"
   ]
  },
  {
   "cell_type": "code",
   "execution_count": 23,
   "metadata": {},
   "outputs": [],
   "source": [
    "#mycursor.execute(\"Create table Prod_Table(U_Id int not null,Product_Name varchar(80),T_Date date)\")"
   ]
  },
  {
   "cell_type": "code",
   "execution_count": 21,
   "metadata": {},
   "outputs": [
    {
     "name": "stdout",
     "output_type": "stream",
     "text": [
      "11\n"
     ]
    }
   ],
   "source": [
    "mycursor.execute(\"Select Max(Id) from user_table\")\n",
    "rec = mycursor.fetchone()\n",
    "for i in rec:\n",
    "  print(i)"
   ]
  },
  {
   "cell_type": "code",
   "execution_count": 35,
   "metadata": {},
   "outputs": [
    {
     "name": "stdout",
     "output_type": "stream",
     "text": [
      "2022-12-20\n"
     ]
    }
   ],
   "source": [
    "mycursor.execute(\"Select Max(T_Date) from user_table\")\n",
    "re= mycursor.fetchone()\n",
    "for i in re:\n",
    "   p=i\n",
    "   print(p)"
   ]
  },
  {
   "cell_type": "code",
   "execution_count": 39,
   "metadata": {},
   "outputs": [
    {
     "name": "stdout",
     "output_type": "stream",
     "text": [
      "0\n"
     ]
    }
   ],
   "source": [
    "mycursor.execute(f\"Select Count(T_Date) from user_table where T_Date = {p}\")\n",
    "re= mycursor.fetchone()\n",
    "for i in re:\n",
    "    print(i)"
   ]
  },
  {
   "cell_type": "code",
   "execution_count": 19,
   "metadata": {},
   "outputs": [
    {
     "ename": "InternalError",
     "evalue": "Unread result found",
     "output_type": "error",
     "traceback": [
      "\u001b[1;31m---------------------------------------------------------------------------\u001b[0m",
      "\u001b[1;31mInternalError\u001b[0m                             Traceback (most recent call last)",
      "Cell \u001b[1;32mIn [19], line 1\u001b[0m\n\u001b[1;32m----> 1\u001b[0m mycursor\u001b[39m.\u001b[39;49mexecute(\u001b[39m\"\u001b[39;49m\u001b[39mSELECT NOW()\u001b[39;49m\u001b[39m\"\u001b[39;49m)\n\u001b[0;32m      2\u001b[0m a  \u001b[39m=\u001b[39mmycursor\u001b[39m.\u001b[39mfetchone()\n\u001b[0;32m      3\u001b[0m \u001b[39mfor\u001b[39;00m i \u001b[39min\u001b[39;00m a:\n",
      "File \u001b[1;32mc:\\Users\\anuku\\miniconda3\\lib\\site-packages\\mysql\\connector\\cursor_cext.py:252\u001b[0m, in \u001b[0;36mCMySQLCursor.execute\u001b[1;34m(self, operation, params, multi)\u001b[0m\n\u001b[0;32m    250\u001b[0m \u001b[39mexcept\u001b[39;00m (ProgrammingError, \u001b[39mReferenceError\u001b[39;00m) \u001b[39mas\u001b[39;00m err:\n\u001b[0;32m    251\u001b[0m     \u001b[39mraise\u001b[39;00m ProgrammingError(\u001b[39m\"\u001b[39m\u001b[39mCursor is not connected\u001b[39m\u001b[39m\"\u001b[39m, \u001b[39m2055\u001b[39m) \u001b[39mfrom\u001b[39;00m \u001b[39merr\u001b[39;00m\n\u001b[1;32m--> 252\u001b[0m \u001b[39mself\u001b[39;49m\u001b[39m.\u001b[39;49m_cnx\u001b[39m.\u001b[39;49mhandle_unread_result()\n\u001b[0;32m    254\u001b[0m stmt \u001b[39m=\u001b[39m \u001b[39m\"\u001b[39m\u001b[39m\"\u001b[39m\n\u001b[0;32m    255\u001b[0m \u001b[39mself\u001b[39m\u001b[39m.\u001b[39mreset()\n",
      "File \u001b[1;32mc:\\Users\\anuku\\miniconda3\\lib\\site-packages\\mysql\\connector\\connection_cext.py:872\u001b[0m, in \u001b[0;36mCMySQLConnection.handle_unread_result\u001b[1;34m(self, prepared)\u001b[0m\n\u001b[0;32m    870\u001b[0m     \u001b[39mself\u001b[39m\u001b[39m.\u001b[39mconsume_results()\n\u001b[0;32m    871\u001b[0m \u001b[39melif\u001b[39;00m unread_result:\n\u001b[1;32m--> 872\u001b[0m     \u001b[39mraise\u001b[39;00m InternalError(\u001b[39m\"\u001b[39m\u001b[39mUnread result found\u001b[39m\u001b[39m\"\u001b[39m)\n",
      "\u001b[1;31mInternalError\u001b[0m: Unread result found"
     ]
    }
   ],
   "source": [
    "mycursor.execute(\"SELECT NOW()\")\n",
    "a  = mycursor.fetchone()\n",
    "for i in a:\n",
    "    print(i)"
   ]
  }
 ],
 "metadata": {
  "kernelspec": {
   "display_name": "base",
   "language": "python",
   "name": "python3"
  },
  "language_info": {
   "codemirror_mode": {
    "name": "ipython",
    "version": 3
   },
   "file_extension": ".py",
   "mimetype": "text/x-python",
   "name": "python",
   "nbconvert_exporter": "python",
   "pygments_lexer": "ipython3",
   "version": "3.9.12 (main, Apr  4 2022, 05:22:27) [MSC v.1916 64 bit (AMD64)]"
  },
  "orig_nbformat": 4,
  "vscode": {
   "interpreter": {
    "hash": "4e8f3a7a02010f64316f648f42951c185bd81b36418d82413abe5bcaf48078d2"
   }
  }
 },
 "nbformat": 4,
 "nbformat_minor": 2
}
