{
 "cells": [
  {
   "cell_type": "code",
   "execution_count": 1,
   "metadata": {},
   "outputs": [],
   "source": [
    "import pandas as pd\n",
    "from bs4 import BeautifulSoup\n",
    "import requests"
   ]
  },
  {
   "cell_type": "code",
   "execution_count": 2,
   "metadata": {},
   "outputs": [],
   "source": [
    "query = 'mobiles'\n"
   ]
  },
  {
   "cell_type": "code",
   "execution_count": 3,
   "metadata": {},
   "outputs": [
    {
     "ename": "AttributeError",
     "evalue": "'NoneType' object has no attribute 'get'",
     "output_type": "error",
     "traceback": [
      "\u001b[1;31m---------------------------------------------------------------------------\u001b[0m",
      "\u001b[1;31mAttributeError\u001b[0m                            Traceback (most recent call last)",
      "Cell \u001b[1;32mIn [3], line 18\u001b[0m\n\u001b[0;32m     15\u001b[0m \u001b[39m#   print(price.string)\u001b[39;00m\n\u001b[0;32m     17\u001b[0m image \u001b[39m=\u001b[39m d\u001b[39m.\u001b[39mfind(\u001b[39m'\u001b[39m\u001b[39mimg\u001b[39m\u001b[39m'\u001b[39m, attrs\u001b[39m=\u001b[39m{\u001b[39m'\u001b[39m\u001b[39mclass\u001b[39m\u001b[39m'\u001b[39m:\u001b[39m'\u001b[39m\u001b[39m_396cs4 _3exPp9\u001b[39m\u001b[39m'\u001b[39m})\n\u001b[1;32m---> 18\u001b[0m \u001b[39mprint\u001b[39m(image\u001b[39m.\u001b[39;49mget(\u001b[39m'\u001b[39m\u001b[39msrc\u001b[39m\u001b[39m'\u001b[39m))\n\u001b[0;32m     19\u001b[0m linkk \u001b[39m=\u001b[39m d\u001b[39m.\u001b[39mfind(\u001b[39m'\u001b[39m\u001b[39ma\u001b[39m\u001b[39m'\u001b[39m,attrs\u001b[39m=\u001b[39m{\u001b[39m'\u001b[39m\u001b[39mclass\u001b[39m\u001b[39m'\u001b[39m:\u001b[39m'\u001b[39m\u001b[39m_1fQZEK\u001b[39m\u001b[39m'\u001b[39m})\n\u001b[0;32m     20\u001b[0m \u001b[39m#print(linkk.get('href')) \u001b[39;00m\n",
      "\u001b[1;31mAttributeError\u001b[0m: 'NoneType' object has no attribute 'get'"
     ]
    }
   ],
   "source": [
    "url1 = f'https://www.flipkart.com/search?q={query}'\n",
    "response = requests.get(url1)\n",
    "htmlcontent = response.content\n",
    "soup = BeautifulSoup(htmlcontent, 'html.parser')\n",
    "titles = []\n",
    "prices = []\n",
    "images = []\n",
    "linker = []\n",
    "rating=[]\n",
    "for d in soup.find_all('div', attrs={'class':'_2kHMtA'}):\n",
    "    title = d.find('div', attrs={'class':'_4rR01T'})\n",
    "    #print(title.string)\n",
    "\n",
    "    price = d.find('div', attrs={'class':'_30jeq3 _1_WHN1'})\n",
    "    #   print(price.string)\n",
    "\n",
    "    image = d.find('img', attrs={'class':'_396cs4 _3exPp9'})\n",
    "    print(image.get('src'))\n",
    "    linkk = d.find('a',attrs={'class':'_1fQZEK'})\n",
    "    #print(linkk.get('href')) \n",
    "    rate = d.find('div',attrs={'class':'_3LWZlK'})\n",
    "    #print(rate.text)"
   ]
  }
 ],
 "metadata": {
  "kernelspec": {
   "display_name": "base",
   "language": "python",
   "name": "python3"
  },
  "language_info": {
   "codemirror_mode": {
    "name": "ipython",
    "version": 3
   },
   "file_extension": ".py",
   "mimetype": "text/x-python",
   "name": "python",
   "nbconvert_exporter": "python",
   "pygments_lexer": "ipython3",
   "version": "3.9.12"
  },
  "orig_nbformat": 4,
  "vscode": {
   "interpreter": {
    "hash": "4e8f3a7a02010f64316f648f42951c185bd81b36418d82413abe5bcaf48078d2"
   }
  }
 },
 "nbformat": 4,
 "nbformat_minor": 2
}
